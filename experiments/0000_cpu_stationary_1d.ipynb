{
 "cells": [
  {
   "cell_type": "code",
   "execution_count": null,
   "id": "f416152f-fc5f-405a-8b24-1ca919bcdade",
   "metadata": {},
   "outputs": [],
   "source": [
    "import matplotlib.pyplot as plt\n",
    "import numpy as np\n",
    "import probnum as pn\n",
    "\n",
    "import linpde_gp"
   ]
  },
  {
   "cell_type": "code",
   "execution_count": null,
   "id": "8234a5d8-aa32-48ee-9c8c-81bc280c5218",
   "metadata": {},
   "outputs": [],
   "source": [
    "import experiment_utils\n",
    "from experiment_utils import config\n",
    "\n",
    "config.experiment_name = \"0000_cpu_stationary_1d\"\n",
    "config.target = \"jmlr\"\n",
    "config.debug_mode = True\n",
    "\n",
    "plt.rcParams.update(config.tueplots_bundle())"
   ]
  },
  {
   "cell_type": "markdown",
   "id": "56474b0e",
   "metadata": {},
   "source": [
    "## Problem Definition"
   ]
  },
  {
   "cell_type": "code",
   "execution_count": null,
   "id": "cded4a9a",
   "metadata": {},
   "outputs": [],
   "source": [
    "import cpu\n",
    "\n",
    "bvp = cpu.bvp_1D"
   ]
  },
  {
   "cell_type": "code",
   "execution_count": null,
   "id": "b3d74b7c-8c57-49a8-a1a5-cdbf998da43e",
   "metadata": {
    "tags": []
   },
   "outputs": [],
   "source": [
    "%matplotlib inline\n",
    "\n",
    "import matplotlib.axes\n",
    "import matplotlib.ticker\n",
    "\n",
    "from probnum.typing import ArrayLike\n",
    "\n",
    "from linpde_gp.typing import RandomProcessLike, RandomVariableLike\n",
    "\n",
    "\n",
    "plt_grid = bvp.domain.uniform_grid(200)\n",
    "\n",
    "\n",
    "def plot_belief(\n",
    "    ax: matplotlib.axes.Axes,\n",
    "    *,\n",
    "    bvp: linpde_gp.problems.pde.BoundaryValueProblem = bvp,\n",
    "    u: pn.randprocs.GaussianProcess | None = None,\n",
    "    conditioned_on: list[str] = [],\n",
    "    X_pde: ArrayLike | None = None,\n",
    "    q_dot_A: RandomVariableLike | None = None,\n",
    "    X_dts: ArrayLike | None = None,\n",
    "    y_dts: ArrayLike | None = None,\n",
    "    noise_dts: RandomVariableLike | None = None,\n",
    "):\n",
    "    cond_events_str = \", \".join(_build_cond_events_str(conditioned_on))\n",
    "\n",
    "    if len(cond_events_str) > 0:\n",
    "        cond_events_str = fr\"\\mid {cond_events_str}\"\n",
    "\n",
    "    # Solution Belief\n",
    "    if u is not None:\n",
    "        u.plot(\n",
    "            ax,\n",
    "            plt_grid,\n",
    "            num_samples=10,\n",
    "            rng=np.random.default_rng(24),\n",
    "            color=\"C0\",\n",
    "            label=fr\"$\\mathrm{{u}} {cond_events_str}$\",\n",
    "        )\n",
    "    \n",
    "    # True Solution\n",
    "    if bvp.solution is not None:\n",
    "        bvp.solution.plot(\n",
    "            ax,\n",
    "            plt_grid,\n",
    "            color=\"C1\",\n",
    "            label=\"$u^\\star$\",\n",
    "        )\n",
    "\n",
    "    for key in conditioned_on:\n",
    "        # PDE Observations\n",
    "        if key == \"pde\":\n",
    "            X_pde = np.asarray(X_pde)\n",
    "\n",
    "            for i, x in enumerate(X_pde):\n",
    "                ax.axvline(\n",
    "                    x,\n",
    "                    color=\"C3\",\n",
    "                    alpha=0.1,\n",
    "                    linestyle=\"--\",\n",
    "                    label=r\"$\\bm{X}_{\\mathrm{PDE}}$\" if i == 0 else None,\n",
    "                )\n",
    "        # Neumann Boundary Conditions\n",
    "        elif key == \"nbc\":\n",
    "            q_dot_A_label = (\n",
    "                r\"\\dot{\\mathrm{q}}_A\"\n",
    "                if isinstance(q_dot_A, pn.randvars.RandomVariable)\n",
    "                else r\"\\dot{q}_A\"\n",
    "            )\n",
    "            q_dot_A_cond_events_str = (\n",
    "                cond_events_str\n",
    "                if isinstance(q_dot_A, pn.randvars.RandomVariable)\n",
    "                else \"\"\n",
    "            )\n",
    "\n",
    "            X_bc = np.asarray(bvp.domain.boundary)\n",
    "            q_dot_A = pn.randvars.asrandvar(q_dot_A)\n",
    "\n",
    "            slopes = [-q_dot_A[0] / cpu.kappa, q_dot_A[1] / cpu.kappa]\n",
    "\n",
    "            linpde_gp.utils.plotting.plot_local_taylor_processes(\n",
    "                ax,\n",
    "                xs=X_bc,\n",
    "                coeffs_xs=[\n",
    "                    pn.randvars.Normal(\n",
    "                        np.array([u.mean(x), slope.mean]),\n",
    "                        np.diag([0.0, slope.var]),\n",
    "                    )\n",
    "                    for x, slope in zip(bvp.domain, slopes)\n",
    "                ],\n",
    "                radius=0.3,\n",
    "                color=\"C5\",\n",
    "                rel_fill_alpha=0.25,\n",
    "                label=(\n",
    "                    f\"${q_dot_A_label} {q_dot_A_cond_events_str}$\"\n",
    "                ),\n",
    "            )\n",
    "        # Measurements\n",
    "        elif key == \"dts\":\n",
    "            X_dts = np.asarray(X_dts)\n",
    "            y_dts = np.asarray(y_dts)\n",
    "            noise_dts = pn.asrandvar(noise_dts)\n",
    "\n",
    "            ax.errorbar(\n",
    "                X_dts,\n",
    "                y_dts + noise_dts.mean,\n",
    "                yerr=1.96 * noise_dts.std,\n",
    "                fmt=\"+\",\n",
    "                capsize=2,\n",
    "                color=\"C4\",\n",
    "                label=r\"$(\\bm{X}_{\\mathrm{DTS}}, \\bm{y}_{\\mathrm{DTS}})$\",\n",
    "            )\n",
    "\n",
    "    cpu.adjust_xaxis(ax)\n",
    "    cpu.adjust_tempaxis(ax.yaxis)\n",
    "\n",
    "    # ax.set_ylabel(\n",
    "    #     r\"Temperature (\\unit{\\degreeCelsius})\",\n",
    "    #     ha=\"left\",\n",
    "    #     y=1,\n",
    "    #     rotation=0,\n",
    "    #     labelpad=0,\n",
    "    # )\n",
    "\n",
    "    ax.legend()\n",
    "\n",
    "\n",
    "def plot_pred_belief(\n",
    "    ax,\n",
    "    bvp: linpde_gp.problems.pde.BoundaryValueProblem = bvp,\n",
    "    u: pn.randprocs.GaussianProcess | None = None,\n",
    "    q_dot_V: RandomProcessLike | None = None,\n",
    "    conditioned_on: list[str] = [],\n",
    "    X_pde: ArrayLike | None = None,\n",
    "):\n",
    "    cond_events_str = \", \".join(_build_cond_events_str(conditioned_on))\n",
    "\n",
    "    if len(cond_events_str) > 0:\n",
    "        cond_events_str = fr\"\\mid {cond_events_str}\"\n",
    "\n",
    "    # Differential Operator Image Belief\n",
    "    if u is not None:\n",
    "        bvp.pde.diffop(u).plot(\n",
    "            ax,\n",
    "            plt_grid,\n",
    "            num_samples=10,\n",
    "            rng=np.random.default_rng(24),\n",
    "            color=\"C0\",\n",
    "            label=fr\"$-\\kappa \\Delta \\mathrm{{u}} {cond_events_str}$\",\n",
    "        )\n",
    "    \n",
    "    # True Right-Hand Side\n",
    "    bvp.pde.rhs.plot(\n",
    "        ax,\n",
    "        plt_grid,\n",
    "        color=\"C1\",\n",
    "        label=r\"$\\dot{q}_V\" + (\n",
    "            \"$\"\n",
    "            if q_dot_V is None\n",
    "            else r\"^\\star$\"\n",
    "        ),\n",
    "    )\n",
    "\n",
    "    # RHS Belief\n",
    "    q_dot_V_label = r\"\\dot{\" + (\n",
    "        \"q\" if q_dot_V is None else r\"\\mathrm{q}\"\n",
    "    ) + r\"}_V\"\n",
    "\n",
    "    if q_dot_V is not None:\n",
    "        q_dot_V = linpde_gp.randprocs.asrandproc(q_dot_V)\n",
    "\n",
    "        q_dot_V.plot(\n",
    "            ax,\n",
    "            plt_grid,\n",
    "            num_samples=10,\n",
    "            rng=np.random.default_rng(24),\n",
    "            color=\"C2\",\n",
    "            label=fr\"${q_dot_V_label} {cond_events_str}$\",\n",
    "        )\n",
    "    \n",
    "    # PDE Observations\n",
    "    if \"pde\" in conditioned_on and X_pde is not None:\n",
    "        X_pde = np.asarray(X_pde)\n",
    "        y_pde = pn.randvars.asrandvar(\n",
    "            bvp.pde.rhs(X_pde)\n",
    "            if q_dot_V is None\n",
    "            else q_dot_V(X_pde)\n",
    "        )\n",
    "\n",
    "        ax.errorbar(\n",
    "            X_pde,\n",
    "            y_pde.mean,\n",
    "            yerr=1.96 * y_pde.std,\n",
    "            fmt=\"+\",\n",
    "            capsize=2,\n",
    "            c=\"C3\",\n",
    "            label=(\n",
    "                r\"$(\\bm{X}_{\\mathrm{PDE}},\"\n",
    "                f\"{q_dot_V_label}\"\n",
    "                r\"(\\bm{X}_{\\mathrm{PDE}}))$\"\n",
    "            ),\n",
    "        )\n",
    "    \n",
    "    cpu.adjust_xaxis(ax)\n",
    "    cpu.adjust_q_dot_V_axis(ax.yaxis)\n",
    "\n",
    "    # ax.set_ylabel(\n",
    "    #     r\"Heat Flow (\\unit{\\watt\\per\\cubic\\mm)}\",\n",
    "    #     ha=\"left\",\n",
    "    #     y=1,\n",
    "    #     rotation=0,\n",
    "    #     labelpad=0,\n",
    "    # )\n",
    "\n",
    "    ax.legend()\n",
    "\n",
    "\n",
    "def _build_cond_events_str(\n",
    "    conditioned_on: list[str]\n",
    ") -> str:\n",
    "    for key in conditioned_on:\n",
    "        match key:\n",
    "            case \"pde\":\n",
    "                yield r\"\\mathrm{PDE}\"\n",
    "            case \"dbc\":\n",
    "                yield r\"\\mathrm{DBC}\"\n",
    "            case \"nbc\":\n",
    "                yield r\"\\mathrm{NBC}\"\n",
    "            case \"dts\":\n",
    "                yield r\"\\mathrm{DTS}\"\n",
    "            case \"stat\":\n",
    "                if \"pde\" in conditioned_on:\n",
    "                    yield r\"\\mathrm{STAT}\"\n",
    "                else:\n",
    "                    continue\n",
    "            case _:\n",
    "                raise ValueError(f\"Unknown event '{key}'\")"
   ]
  },
  {
   "cell_type": "markdown",
   "id": "cb1ae509",
   "metadata": {},
   "source": [
    "## Simplified Model with Dirichlet Boundaries"
   ]
  },
  {
   "cell_type": "markdown",
   "id": "582d3242-e441-4704-abef-ddb302b89f6a",
   "metadata": {},
   "source": [
    "### Prior"
   ]
  },
  {
   "cell_type": "code",
   "execution_count": null,
   "id": "e325809a-1f28-4433-b8ea-452abd1de8fb",
   "metadata": {},
   "outputs": [],
   "source": [
    "u = pn.randprocs.GaussianProcess(\n",
    "    mean=linpde_gp.functions.Constant(input_shape=(), value=57.0),\n",
    "    cov=3.0 ** 2 * linpde_gp.randprocs.covfuncs.Matern(\n",
    "        input_shape=(),\n",
    "        nu=2.5,\n",
    "        lengthscales=0.75 * cpu.width,\n",
    "    ),\n",
    ")"
   ]
  },
  {
   "cell_type": "code",
   "execution_count": null,
   "id": "dbbfe427",
   "metadata": {},
   "outputs": [],
   "source": [
    "plot_belief(\n",
    "    ax=plt.gca(),\n",
    "    bvp=cpu.bvp_1D_dbc,\n",
    "    u=u,\n",
    ")"
   ]
  },
  {
   "cell_type": "code",
   "execution_count": null,
   "id": "efc625da",
   "metadata": {},
   "outputs": [],
   "source": [
    "plot_pred_belief(\n",
    "    ax=plt.gca(),\n",
    "    bvp=cpu.bvp_1D_dbc,\n",
    "    u=u,\n",
    ")"
   ]
  },
  {
   "cell_type": "code",
   "execution_count": null,
   "id": "4cd34855-aaa4-4f36-8073-130729f914f4",
   "metadata": {},
   "outputs": [],
   "source": [
    "with plt.rc_context(config.tueplots_bundle(nrows=2, rel_width=0.5)):\n",
    "    with plt.rc_context({\"legend.loc\": \"lower center\"}):\n",
    "        fig, ax = plt.subplots(nrows=2, sharex=True)\n",
    "\n",
    "        plot_belief(\n",
    "            ax=ax[0],\n",
    "            bvp=cpu.bvp_1D_dbc,\n",
    "            u=u,\n",
    "        )\n",
    "\n",
    "        plot_pred_belief(\n",
    "            ax=ax[1],\n",
    "            bvp=cpu.bvp_1D_dbc,\n",
    "            u=u,\n",
    "        )\n",
    "\n",
    "experiment_utils.savefig(\"01_simplified_dbc_00_prior\")"
   ]
  },
  {
   "cell_type": "markdown",
   "id": "65a121c2",
   "metadata": {},
   "source": [
    "### Observations"
   ]
  },
  {
   "cell_type": "code",
   "execution_count": null,
   "id": "c7d1c847",
   "metadata": {},
   "outputs": [],
   "source": [
    "N_pde = 17\n",
    "\n",
    "X_pde = bvp.domain.uniform_grid(N_pde, inset=0.03 * cpu.width)"
   ]
  },
  {
   "cell_type": "markdown",
   "id": "aa15a4a6-7261-4a27-b764-32ce0caecabb",
   "metadata": {
    "tags": []
   },
   "source": [
    "### Posterior"
   ]
  },
  {
   "cell_type": "markdown",
   "id": "96d86eb1-2636-44c3-a3db-34dc5e6f6a4f",
   "metadata": {},
   "source": [
    "#### Conditioning on the PDE"
   ]
  },
  {
   "cell_type": "code",
   "execution_count": null,
   "id": "c1bd76db-ddc8-440f-aefc-1506548e7b13",
   "metadata": {},
   "outputs": [],
   "source": [
    "u_cond_pde = u.condition_on_observations(\n",
    "    Y=bvp.pde.rhs(X_pde),\n",
    "    X=X_pde,\n",
    "    L=bvp.pde.diffop,\n",
    ")"
   ]
  },
  {
   "cell_type": "code",
   "execution_count": null,
   "id": "f798307f-2ad9-4688-a641-e08f33586efd",
   "metadata": {},
   "outputs": [],
   "source": [
    "plot_belief(\n",
    "    ax=plt.gca(),\n",
    "    bvp=cpu.bvp_1D_dbc,\n",
    "    u=u_cond_pde,\n",
    "    conditioned_on=[\"pde\"],\n",
    "    X_pde=X_pde,\n",
    ")"
   ]
  },
  {
   "cell_type": "code",
   "execution_count": null,
   "id": "4a04ef71-0a27-4548-b614-236ddd520e86",
   "metadata": {},
   "outputs": [],
   "source": [
    "plot_pred_belief(\n",
    "    ax=plt.gca(),\n",
    "    bvp=cpu.bvp_1D_dbc,\n",
    "    u=u_cond_pde,\n",
    "    conditioned_on=[\"pde\"],\n",
    "    X_pde=X_pde,\n",
    ")"
   ]
  },
  {
   "cell_type": "code",
   "execution_count": null,
   "id": "96b2c903",
   "metadata": {},
   "outputs": [],
   "source": [
    "with plt.rc_context(config.tueplots_bundle(nrows=2, rel_width=0.5)):\n",
    "    with plt.rc_context({\"legend.loc\": \"lower center\"}):\n",
    "        fig, ax = plt.subplots(nrows=2, sharex=True)\n",
    "\n",
    "        plot_belief(\n",
    "            ax=ax[0],\n",
    "            bvp=cpu.bvp_1D_dbc,\n",
    "            u=u_cond_pde,\n",
    "            conditioned_on=[\"pde\"],\n",
    "            X_pde=X_pde,\n",
    "        )\n",
    "\n",
    "        plot_pred_belief(\n",
    "            ax=ax[1],\n",
    "            bvp=cpu.bvp_1D_dbc,\n",
    "            u=u_cond_pde,\n",
    "            conditioned_on=[\"pde\"],\n",
    "            X_pde=X_pde,\n",
    "        )\n",
    "\n",
    "experiment_utils.savefig(\"01_simplified_dbc_01_cond_pde\")"
   ]
  },
  {
   "cell_type": "markdown",
   "id": "e7693e01",
   "metadata": {},
   "source": [
    "#### Conditioning on the Dirichlet Boundary Conditions"
   ]
  },
  {
   "cell_type": "code",
   "execution_count": null,
   "id": "6af95978-0efd-492b-922a-2e76f37badb9",
   "metadata": {},
   "outputs": [],
   "source": [
    "X_dbc, y_dbc = linpde_gp.problems.pde.get_1d_dirichlet_boundary_observations(\n",
    "    cpu.bvp_1D_dbc.boundary_conditions\n",
    ")\n",
    "\n",
    "u_cond_pde_bc = u_cond_pde.condition_on_observations(\n",
    "    Y=y_dbc,\n",
    "    X=X_dbc,\n",
    ")"
   ]
  },
  {
   "cell_type": "code",
   "execution_count": null,
   "id": "fdf6b613",
   "metadata": {},
   "outputs": [],
   "source": [
    "def plot_dbc(ax: matplotlib.axes.Axes, u_X_dbc: RandomVariableLike):\n",
    "    X_dbc = np.asarray(bvp.domain.boundary)\n",
    "    u_X_dbc = pn.randvars.asrandvar(u_X_dbc)\n",
    "\n",
    "    ax.errorbar(\n",
    "        X_dbc,\n",
    "        u_X_dbc.mean,\n",
    "        yerr=1.96 * u_X_dbc.std,\n",
    "        fmt=\"+\",\n",
    "        capsize=2,\n",
    "        color=\"C3\",\n",
    "        label=r\"$g$\",\n",
    "    )"
   ]
  },
  {
   "cell_type": "code",
   "execution_count": null,
   "id": "47869cc3-2b2c-4f3a-9092-d48565f5af2e",
   "metadata": {},
   "outputs": [],
   "source": [
    "plot_belief(\n",
    "    ax=plt.gca(),\n",
    "    bvp=cpu.bvp_1D_dbc,\n",
    "    u=u_cond_pde_bc,\n",
    "    conditioned_on=[\"pde\", \"dbc\"],\n",
    "    X_pde=X_pde,\n",
    ")\n",
    "\n",
    "plot_dbc(plt.gca(), u_X_dbc=y_dbc)"
   ]
  },
  {
   "cell_type": "code",
   "execution_count": null,
   "id": "2a3f5d99-34bb-43f7-8a3b-6796cfbfd123",
   "metadata": {},
   "outputs": [],
   "source": [
    "plot_pred_belief(\n",
    "    ax=plt.gca(),\n",
    "    bvp=cpu.bvp_1D_dbc,\n",
    "    u=u_cond_pde_bc,\n",
    "    conditioned_on=[\"pde\", \"dbc\"],\n",
    "    X_pde=X_pde,\n",
    ")"
   ]
  },
  {
   "cell_type": "code",
   "execution_count": null,
   "id": "4f7bb808",
   "metadata": {},
   "outputs": [],
   "source": [
    "with plt.rc_context(config.tueplots_bundle(nrows=2, rel_width=0.5)):\n",
    "    with plt.rc_context({\"legend.loc\": \"lower center\"}):\n",
    "        fig, ax = plt.subplots(nrows=2, sharex=True)\n",
    "\n",
    "        plot_belief(\n",
    "            ax=ax[0],\n",
    "            bvp=cpu.bvp_1D_dbc,\n",
    "            u=u_cond_pde_bc,\n",
    "            conditioned_on=[\"pde\", \"dbc\"],\n",
    "            X_pde=X_pde,\n",
    "        )\n",
    "\n",
    "        plot_dbc(ax[0], u_X_dbc=y_dbc)\n",
    "\n",
    "        plot_pred_belief(\n",
    "            ax=ax[1],\n",
    "            bvp=cpu.bvp_1D_dbc,\n",
    "            u=u_cond_pde_bc,\n",
    "            conditioned_on=[\"pde\", \"dbc\"],\n",
    "            X_pde=X_pde,\n",
    "        )\n",
    "    \n",
    "experiment_utils.savefig(\"01_simplified_dbc_02_cond_pde_dbc\")"
   ]
  },
  {
   "attachments": {},
   "cell_type": "markdown",
   "id": "2316b662",
   "metadata": {},
   "source": [
    "## Simplified Model with Neumann Boundary Conditions and Interior Measurements"
   ]
  },
  {
   "cell_type": "markdown",
   "id": "a2e8c511",
   "metadata": {},
   "source": [
    "### Prior"
   ]
  },
  {
   "cell_type": "code",
   "execution_count": null,
   "id": "a5b9f1a0",
   "metadata": {},
   "outputs": [],
   "source": [
    "u = pn.randprocs.GaussianProcess(\n",
    "    mean=linpde_gp.functions.Constant(input_shape=(), value=57.0),\n",
    "    cov=3.0 ** 2 * linpde_gp.randprocs.covfuncs.Matern(\n",
    "        input_shape=(),\n",
    "        nu=2.5,\n",
    "        lengthscales=0.75 * cpu.width,\n",
    "    ),\n",
    ")"
   ]
  },
  {
   "cell_type": "code",
   "execution_count": null,
   "id": "dbbfe427",
   "metadata": {},
   "outputs": [],
   "source": [
    "with plt.rc_context(config.tueplots_bundle(rel_width=0.5)):\n",
    "    with plt.rc_context({\"legend.loc\": \"lower left\"}):\n",
    "        plot_belief(\n",
    "            ax=plt.gca(),\n",
    "            u=u,\n",
    "        )\n",
    "\n",
    "experiment_utils.savefig(\"02_simplified_nbc_00_prior_u\")"
   ]
  },
  {
   "cell_type": "code",
   "execution_count": null,
   "id": "efc625da",
   "metadata": {},
   "outputs": [],
   "source": [
    "with plt.rc_context(config.tueplots_bundle(rel_width=0.5)):\n",
    "    with plt.rc_context({\"legend.loc\": \"lower left\"}):\n",
    "        plot_pred_belief(\n",
    "            ax=plt.gca(),\n",
    "            u=u,\n",
    "        )\n",
    "\n",
    "experiment_utils.savefig(\"02_simplified_nbc_00_prior_f\")"
   ]
  },
  {
   "cell_type": "code",
   "execution_count": null,
   "id": "721c0739-b5f1-4197-bdec-78f357eada6c",
   "metadata": {},
   "outputs": [],
   "source": [
    "with plt.rc_context(config.tueplots_bundle(nrows=2, rel_width=0.44)):\n",
    "    fig, ax = plt.subplots(nrows=2, sharex=True)\n",
    "\n",
    "    # CPU Schematic\n",
    "    cpu.plot_schematic(ax[0])\n",
    "\n",
    "    ax[0].imshow(\n",
    "        cpu.bvp_2D.pde.rhs(cpu.domain_2D.uniform_grid((200, 100))).T,\n",
    "        cmap=\"coolwarm\",\n",
    "        norm=matplotlib.colors.TwoSlopeNorm(0.0),\n",
    "        extent=[0.0, cpu.width, 0.0, cpu.height],\n",
    "    )\n",
    "\n",
    "    ax[0].plot([0.0, cpu.width], 2 * [cpu.core_centers_ys[1]], c=\"C1\")\n",
    "\n",
    "    # PDE RHS\n",
    "    plot_pred_belief(ax[1])\n",
    "\n",
    "    ax[1].legend(loc=\"upper right\")\n",
    "\n",
    "experiment_utils.savefig(\"01_simplified_nbc_00_geometry_rhs\")"
   ]
  },
  {
   "cell_type": "markdown",
   "id": "54390ae1",
   "metadata": {},
   "source": [
    "### Observations"
   ]
  },
  {
   "cell_type": "code",
   "execution_count": null,
   "id": "c7d1c847",
   "metadata": {},
   "outputs": [],
   "source": [
    "N_pde = 17\n",
    "\n",
    "X_pde = bvp.domain.uniform_grid(N_pde, inset=0.03 * cpu.width)"
   ]
  },
  {
   "cell_type": "code",
   "execution_count": null,
   "id": "e30560dc",
   "metadata": {},
   "outputs": [],
   "source": [
    "X_dts = cpu.X_dts_1D\n",
    "y_dts = cpu.y_dts_1D\n",
    "noise_dts = cpu.noise_dts_1D"
   ]
  },
  {
   "cell_type": "markdown",
   "id": "c61c6a35",
   "metadata": {},
   "source": [
    "### Posterior"
   ]
  },
  {
   "cell_type": "markdown",
   "id": "49df0bf7",
   "metadata": {},
   "source": [
    "#### Conditioning on the PDE"
   ]
  },
  {
   "cell_type": "code",
   "execution_count": null,
   "id": "c1bd76db-ddc8-440f-aefc-1506548e7b13",
   "metadata": {},
   "outputs": [],
   "source": [
    "u_cond_pde = u.condition_on_observations(\n",
    "    Y=bvp.pde.rhs(X_pde),\n",
    "    X=X_pde,\n",
    "    L=bvp.pde.diffop,\n",
    ")"
   ]
  },
  {
   "cell_type": "code",
   "execution_count": null,
   "id": "f798307f-2ad9-4688-a641-e08f33586efd",
   "metadata": {},
   "outputs": [],
   "source": [
    "with plt.rc_context(config.tueplots_bundle(rel_width=0.5)):\n",
    "    with plt.rc_context({\"legend.loc\": \"lower left\"}):\n",
    "        plot_belief(\n",
    "            ax=plt.gca(),\n",
    "            u=u_cond_pde,\n",
    "            conditioned_on=[\"pde\"],\n",
    "            X_pde=X_pde,\n",
    "        )\n",
    "\n",
    "experiment_utils.savefig(\"02_simplified_nbc_01_cond_pde_u\")"
   ]
  },
  {
   "cell_type": "code",
   "execution_count": null,
   "id": "4a04ef71-0a27-4548-b614-236ddd520e86",
   "metadata": {},
   "outputs": [],
   "source": [
    "with plt.rc_context(config.tueplots_bundle(rel_width=0.5)):\n",
    "    with plt.rc_context({\"legend.loc\": \"lower center\"}):\n",
    "        plot_pred_belief(\n",
    "            ax=plt.gca(),\n",
    "            u=u_cond_pde,\n",
    "            conditioned_on=[\"pde\"],\n",
    "            X_pde=X_pde,\n",
    "        )\n",
    "\n",
    "experiment_utils.savefig(\"02_simplified_nbc_01_cond_pde_f\")"
   ]
  },
  {
   "cell_type": "code",
   "execution_count": null,
   "id": "96b2c903",
   "metadata": {},
   "outputs": [],
   "source": [
    "with plt.rc_context(config.tueplots_bundle(nrows=2, rel_width=0.5)):\n",
    "    with plt.rc_context({\"legend.loc\": \"lower left\"}):\n",
    "        fig, ax = plt.subplots(nrows=2, sharex=True)\n",
    "\n",
    "        plot_belief(\n",
    "            ax=ax[0],\n",
    "            u=u_cond_pde,\n",
    "            conditioned_on=[\"pde\"],\n",
    "            X_pde=X_pde,\n",
    "        )\n",
    "\n",
    "        plot_pred_belief(\n",
    "            ax=ax[1],\n",
    "            u=u_cond_pde,\n",
    "            conditioned_on=[\"pde\"],\n",
    "            X_pde=X_pde,\n",
    "        )\n",
    "\n",
    "experiment_utils.savefig(\"02_simplified_nbc_01_cond_pde\")"
   ]
  },
  {
   "attachments": {},
   "cell_type": "markdown",
   "id": "fdf125b5",
   "metadata": {},
   "source": [
    "#### Conditioning on Neumann Boundary Conditions"
   ]
  },
  {
   "cell_type": "markdown",
   "id": "5c8e7e4a",
   "metadata": {},
   "source": [
    "According to Fourier's law, the outward heat flux through the surface of the CPU is\n",
    "given by $q(x) = \\langle n(x), - k \\nabla u(x) \\rangle = - k \\nabla_{n(x)} u(x)$."
   ]
  },
  {
   "cell_type": "code",
   "execution_count": null,
   "id": "0213a0c4",
   "metadata": {},
   "outputs": [],
   "source": [
    "u_cond_pde_nbc = u_cond_pde\n",
    "\n",
    "for idx, bcond in enumerate(bvp.boundary_conditions):\n",
    "    u_cond_pde_nbc = u_cond_pde_nbc.condition_on_observations(\n",
    "        Y=bcond.values.value,\n",
    "        L=bcond.operator,\n",
    "        X=bcond.boundary,\n",
    "    )"
   ]
  },
  {
   "cell_type": "code",
   "execution_count": null,
   "id": "7cb38df9",
   "metadata": {},
   "outputs": [],
   "source": [
    "with plt.rc_context(config.tueplots_bundle(rel_width=0.5)):\n",
    "    with plt.rc_context({\"legend.loc\": \"lower left\"}):\n",
    "        plot_belief(\n",
    "            ax=plt.gca(),\n",
    "            u=u_cond_pde_nbc,\n",
    "            conditioned_on=[\"pde\", \"nbc\"],\n",
    "            X_pde=X_pde,\n",
    "            q_dot_A=cpu.q_dot_A_1D,\n",
    "        )\n",
    "\n",
    "experiment_utils.savefig(\"02_simplified_nbc_02_a_cond_pde_nbc_u\")"
   ]
  },
  {
   "cell_type": "code",
   "execution_count": null,
   "id": "feb5ec33",
   "metadata": {},
   "outputs": [],
   "source": [
    "with plt.rc_context(config.tueplots_bundle(rel_width=0.5)):\n",
    "    with plt.rc_context({\"legend.loc\": \"lower center\"}):\n",
    "        plot_pred_belief(\n",
    "            ax=plt.gca(),\n",
    "            u=u_cond_pde_nbc,\n",
    "            conditioned_on=[\"pde\", \"nbc\"],\n",
    "            X_pde=X_pde,\n",
    "        )\n",
    "\n",
    "experiment_utils.savefig(\"02_simplified_nbc_02_a_cond_pde_nbc_f\")"
   ]
  },
  {
   "cell_type": "code",
   "execution_count": null,
   "id": "f99d47aa",
   "metadata": {},
   "outputs": [],
   "source": [
    "with plt.rc_context(config.tueplots_bundle(nrows=2, rel_width=0.5)):\n",
    "    with plt.rc_context({\"legend.loc\": \"lower left\"}):\n",
    "        fig, ax = plt.subplots(nrows=2, sharex=True)\n",
    "\n",
    "        plot_belief(\n",
    "            ax=ax[0],\n",
    "            u=u_cond_pde_nbc,\n",
    "            conditioned_on=[\"pde\", \"nbc\"],\n",
    "            X_pde=X_pde,\n",
    "            q_dot_A=cpu.q_dot_A_1D,\n",
    "        )\n",
    "\n",
    "        plot_pred_belief(\n",
    "            ax=ax[1],\n",
    "            u=u_cond_pde_nbc,\n",
    "            conditioned_on=[\"pde\", \"nbc\"],\n",
    "            X_pde=X_pde,\n",
    "        )\n",
    "\n",
    "experiment_utils.savefig(\"02_simplified_nbc_02_a_cond_pde_nbc\")"
   ]
  },
  {
   "cell_type": "markdown",
   "id": "5128c366",
   "metadata": {},
   "source": [
    "#### Conditioning on Noisy Interior Measurements"
   ]
  },
  {
   "cell_type": "code",
   "execution_count": null,
   "id": "6af95978-0efd-492b-922a-2e76f37badb9",
   "metadata": {},
   "outputs": [],
   "source": [
    "u_cond_pde_nbc_dts = u_cond_pde_nbc.condition_on_observations(\n",
    "    Y=y_dts,\n",
    "    X=X_dts,\n",
    "    b=noise_dts,\n",
    ")"
   ]
  },
  {
   "cell_type": "code",
   "execution_count": null,
   "id": "47869cc3-2b2c-4f3a-9092-d48565f5af2e",
   "metadata": {},
   "outputs": [],
   "source": [
    "with plt.rc_context(config.tueplots_bundle(rel_width=0.5)):\n",
    "    with plt.rc_context({\"legend.loc\": \"lower left\"}):\n",
    "        plot_belief(\n",
    "            ax=plt.gca(),\n",
    "            u=u_cond_pde_nbc_dts,\n",
    "            conditioned_on=[\"pde\", \"nbc\", \"dts\"],\n",
    "            X_pde=X_pde,\n",
    "            q_dot_A=cpu.q_dot_A_1D,\n",
    "            X_dts=X_dts,\n",
    "            y_dts=y_dts,\n",
    "            noise_dts=noise_dts,\n",
    "        )\n",
    "\n",
    "experiment_utils.savefig(\"02_simplified_nbc_03_a_cond_pde_nbc_dts_u\")"
   ]
  },
  {
   "cell_type": "code",
   "execution_count": null,
   "id": "2a3f5d99-34bb-43f7-8a3b-6796cfbfd123",
   "metadata": {},
   "outputs": [],
   "source": [
    "with plt.rc_context(config.tueplots_bundle(rel_width=0.5)):\n",
    "    with plt.rc_context({\"legend.loc\": \"lower center\"}):\n",
    "        plot_pred_belief(\n",
    "            ax=plt.gca(),\n",
    "            u=u_cond_pde_nbc_dts,\n",
    "            conditioned_on=[\"pde\", \"nbc\", \"dts\"],\n",
    "            X_pde=X_pde,\n",
    "        )\n",
    "\n",
    "experiment_utils.savefig(\"02_simplified_nbc_03_a_cond_pde_nbc_dts_f\")"
   ]
  },
  {
   "cell_type": "code",
   "execution_count": null,
   "id": "cdfc8203",
   "metadata": {},
   "outputs": [],
   "source": [
    "with plt.rc_context(config.tueplots_bundle(nrows=2, rel_width=0.5)):\n",
    "    with plt.rc_context({\"legend.loc\": \"lower left\"}):\n",
    "        fig, ax = plt.subplots(nrows=2, sharex=True)\n",
    "\n",
    "        plot_belief(\n",
    "            ax=ax[0],\n",
    "            u=u_cond_pde_nbc_dts,\n",
    "            conditioned_on=[\"pde\", \"nbc\", \"dts\"],\n",
    "            X_pde=X_pde,\n",
    "            q_dot_A=cpu.q_dot_A_1D,\n",
    "            X_dts=X_dts,\n",
    "            y_dts=y_dts,\n",
    "            noise_dts=noise_dts,\n",
    "        )\n",
    "\n",
    "        plot_pred_belief(\n",
    "            ax=ax[1],\n",
    "            u=u_cond_pde_nbc_dts,\n",
    "            conditioned_on=[\"pde\", \"nbc\", \"dts\"],\n",
    "            X_pde=X_pde,\n",
    "        )\n",
    "\n",
    "experiment_utils.savefig(\"02_simplified_nbc_03_a_cond_pde_nbc_dts\")"
   ]
  },
  {
   "cell_type": "markdown",
   "id": "87887530",
   "metadata": {},
   "source": [
    "## Full Model"
   ]
  },
  {
   "attachments": {},
   "cell_type": "markdown",
   "id": "cc5c802d",
   "metadata": {},
   "source": [
    "\\begin{align*}\n",
    "    \\mathrm{u} & \\sim \\mathcal{GP}(m_u, k_u) \\\\\n",
    "    \\dot{\\mathrm{q}}_V & \\sim \\mathcal{GP}(m_f, k_f) \\\\\n",
    "    \\dot{\\mathrm{q}}_A & \\sim \\mathcal{GP}(m_g, k_g) \\\\\n",
    "    \\bm{\\epsilon}_{\\text{DTS}} & \\sim \\mathcal{N}(0, \\sigma_{\\text{DTS}}^2 \\bm{I})\n",
    "\\end{align*}\n",
    "\n",
    "\\begin{align*}\n",
    "    h_\\text{CPU} \\int_{\\mathbb{D}} \\dot{\\mathrm{q}}_V(x) \\mathrm{d}x + h_\\text{CPU} \\left( \\dot{\\mathrm{q}}_{A}(w_\\text{CPU}) + \\dot{\\mathrm{q}}_{A}(0) \\right) & = 0 \\\\\n",
    "    -\\kappa \\Delta \\mathrm{u}(\\bm{X}_{\\text{PDE}}) - \\dot{\\mathrm{q}}_V(\\bm{X}_{\\text{PDE}}) & = 0 \\\\\n",
    "    -\\kappa \\nabla_{\\nu(\\bm{X}_{\\text{NBC}})} \\mathrm{u}(\\bm{X}_{\\text{NBC}}) - \\dot{\\mathrm{q}}_{A}(\\bm{X}_{\\text{NBC}}) & = 0 \\\\\n",
    "    \\mathrm{u}(\\bm{X}_{\\text{DTS}}) + \\bm{\\epsilon}_{\\text{DTS}} & = \\bm{y}_{\\text{DTS}}\n",
    "\\end{align*}"
   ]
  },
  {
   "cell_type": "markdown",
   "id": "3f316840",
   "metadata": {},
   "source": [
    "### Prior"
   ]
  },
  {
   "cell_type": "code",
   "execution_count": null,
   "id": "b0c66164",
   "metadata": {},
   "outputs": [],
   "source": [
    "ufg_prior = pn.randprocs.GaussianProcess(\n",
    "    mean=linpde_gp.functions.StackedFunction(\n",
    "        # u\n",
    "        linpde_gp.functions.Constant(input_shape=(), value=57.0),\n",
    "        # \\dot{q}_V\n",
    "        cpu.q_dot_V_estim_1D,\n",
    "        # \\dot{q}_A\n",
    "        linpde_gp.functions.Constant(input_shape=(), value=cpu.q_dot_A_1D[0]),\n",
    "    ),\n",
    "    cov=linpde_gp.randprocs.covfuncs.IndependentMultiOutputCovarianceFunction(\n",
    "        # u\n",
    "        3.0 ** 2 * linpde_gp.randprocs.covfuncs.Matern(\n",
    "            input_shape=(),\n",
    "            nu=2.5,\n",
    "            lengthscales=0.75 * cpu.width,\n",
    "        ),\n",
    "        # \\dot{q}_V\n",
    "        0.9 ** 2 * linpde_gp.randprocs.covfuncs.Matern(\n",
    "            input_shape=(),\n",
    "            nu=0.5,\n",
    "            lengthscales=cpu.width,\n",
    "        ),\n",
    "        # \\dot{q}_A\n",
    "        0.9 ** 2 * linpde_gp.randprocs.covfuncs.Matern(\n",
    "            input_shape=(),\n",
    "            nu=0.5,\n",
    "            lengthscales=cpu.width,\n",
    "        )\n",
    "    )\n",
    ")"
   ]
  },
  {
   "cell_type": "code",
   "execution_count": null,
   "id": "d5146270",
   "metadata": {},
   "outputs": [],
   "source": [
    "select_u = linpde_gp.linfuncops.SelectOutput(input_shapes=((), (3,)), idx=0)\n",
    "select_q_dot_V = linpde_gp.linfuncops.SelectOutput(input_shapes=((), (3,)), idx=1)\n",
    "select_q_dot_A = linpde_gp.linfuncops.SelectOutput(input_shapes=((), (3,)), idx=2)"
   ]
  },
  {
   "cell_type": "code",
   "execution_count": null,
   "id": "5ccaee04",
   "metadata": {},
   "outputs": [],
   "source": [
    "plot_belief(\n",
    "    plt.gca(),\n",
    "    u=select_u(ufg_prior),\n",
    ")"
   ]
  },
  {
   "cell_type": "code",
   "execution_count": null,
   "id": "7d1fa608",
   "metadata": {},
   "outputs": [],
   "source": [
    "plot_pred_belief(\n",
    "    plt.gca(),\n",
    "    u=select_u(ufg_prior),\n",
    "    q_dot_V=select_q_dot_V(ufg_prior),\n",
    ")"
   ]
  },
  {
   "cell_type": "code",
   "execution_count": null,
   "id": "f99d47aa",
   "metadata": {},
   "outputs": [],
   "source": [
    "with plt.rc_context(config.tueplots_bundle(rel_width=0.5)):\n",
    "    with plt.rc_context({\"legend.loc\": \"lower center\"}):\n",
    "        plot_pred_belief(\n",
    "            ax=plt.gca(),\n",
    "            q_dot_V=select_q_dot_V(ufg_prior),\n",
    "        )\n",
    "\n",
    "experiment_utils.savefig(\"03_full_00_q_dot_V_prior\")"
   ]
  },
  {
   "cell_type": "markdown",
   "id": "1e394464",
   "metadata": {},
   "source": [
    "### Observations"
   ]
  },
  {
   "cell_type": "code",
   "execution_count": null,
   "id": "c7d1c847",
   "metadata": {},
   "outputs": [],
   "source": [
    "N_pde = 17\n",
    "\n",
    "X_pde = bvp.domain.uniform_grid(N_pde, inset=0.03 * cpu.width)"
   ]
  },
  {
   "cell_type": "code",
   "execution_count": null,
   "id": "e30560dc",
   "metadata": {},
   "outputs": [],
   "source": [
    "X_dts = cpu.X_dts_1D\n",
    "y_dts = cpu.y_dts_1D\n",
    "noise_dts = cpu.noise_dts_1D"
   ]
  },
  {
   "cell_type": "markdown",
   "id": "79d5e07b",
   "metadata": {},
   "source": [
    "### Posterior"
   ]
  },
  {
   "cell_type": "markdown",
   "id": "9ba72cc3",
   "metadata": {},
   "source": [
    "#### Conditioning on (Thermal) Stationarity"
   ]
  },
  {
   "cell_type": "code",
   "execution_count": null,
   "id": "1af06637",
   "metadata": {},
   "outputs": [],
   "source": [
    "L_stat = (\n",
    "    cpu.height * linpde_gp.linfunctls.LebesgueIntegral(input_domain=bvp.domain) @ select_q_dot_V\n",
    "    + cpu.height * (select_q_dot_A.to_linfunctl(cpu.width) + select_q_dot_A.to_linfunctl(0.0))\n",
    ")\n",
    "\n",
    "ufg_cond_stat = ufg_prior.condition_on_observations(\n",
    "    Y=0.0,\n",
    "    L=L_stat,\n",
    ")"
   ]
  },
  {
   "cell_type": "code",
   "execution_count": null,
   "id": "22bca5c4",
   "metadata": {},
   "outputs": [],
   "source": [
    "plot_pred_belief(\n",
    "    plt.gca(),\n",
    "    u=select_u(ufg_cond_stat),\n",
    "    q_dot_V=select_q_dot_V(ufg_cond_stat),\n",
    "    conditioned_on=[\"stat\"],\n",
    ")"
   ]
  },
  {
   "cell_type": "code",
   "execution_count": null,
   "id": "f99d47aa",
   "metadata": {},
   "outputs": [],
   "source": [
    "with plt.rc_context(config.tueplots_bundle(rel_width=0.5)):\n",
    "    with plt.rc_context({\"legend.loc\": \"lower center\"}):\n",
    "        plot_pred_belief(\n",
    "            ax=plt.gca(),\n",
    "            q_dot_V=select_q_dot_V(ufg_cond_stat),\n",
    "            conditioned_on=[\"stat\"],\n",
    "        )\n",
    "\n",
    "experiment_utils.savefig(\"03_full_01_q_dot_V_cond_stat\")"
   ]
  },
  {
   "cell_type": "markdown",
   "id": "dabc5eaa",
   "metadata": {},
   "source": [
    "#### Conditioning on the PDE with Uncertain RHS"
   ]
  },
  {
   "cell_type": "code",
   "execution_count": null,
   "id": "52963fc9",
   "metadata": {},
   "outputs": [],
   "source": [
    "ufg_cond_stat_pde = ufg_cond_stat.condition_on_observations(\n",
    "    Y=np.zeros_like(X_pde),\n",
    "    L=bvp.pde.diffop @ select_u - select_q_dot_V,\n",
    "    X=X_pde,\n",
    ")"
   ]
  },
  {
   "cell_type": "code",
   "execution_count": null,
   "id": "5ccaee04",
   "metadata": {},
   "outputs": [],
   "source": [
    "plot_belief(\n",
    "    plt.gca(),\n",
    "    u=select_u(ufg_cond_stat_pde),\n",
    "    conditioned_on=[\"pde\", \"stat\"],\n",
    "    X_pde=X_pde,\n",
    ")"
   ]
  },
  {
   "cell_type": "code",
   "execution_count": null,
   "id": "7d1fa608",
   "metadata": {},
   "outputs": [],
   "source": [
    "plot_pred_belief(\n",
    "    plt.gca(),\n",
    "    u=select_u(ufg_cond_stat_pde),\n",
    "    q_dot_V=select_q_dot_V(ufg_cond_stat_pde),\n",
    "    conditioned_on=[\"pde\", \"stat\"],\n",
    "    X_pde=X_pde,\n",
    ")"
   ]
  },
  {
   "cell_type": "markdown",
   "id": "dabc5eaa",
   "metadata": {},
   "source": [
    "#### Conditioning on Uncertain Neumann Boundary Conditions"
   ]
  },
  {
   "cell_type": "code",
   "execution_count": null,
   "id": "3f311e9f",
   "metadata": {},
   "outputs": [],
   "source": [
    "ufg_cond_stat_pde_nbc = ufg_cond_stat_pde\n",
    "\n",
    "for idx, bcond in enumerate(bvp.boundary_conditions):\n",
    "    ufg_cond_stat_pde_nbc = ufg_cond_stat_pde_nbc.condition_on_observations(\n",
    "        Y=0.0,\n",
    "        L=bcond.operator @ select_u - select_q_dot_A,\n",
    "        X=bcond.boundary,\n",
    "    )"
   ]
  },
  {
   "cell_type": "code",
   "execution_count": null,
   "id": "5ccaee04",
   "metadata": {},
   "outputs": [],
   "source": [
    "plot_belief(\n",
    "    plt.gca(),\n",
    "    u=select_u(ufg_cond_stat_pde_nbc),\n",
    "    conditioned_on=[\"pde\", \"nbc\", \"stat\"],\n",
    "    X_pde=X_pde,\n",
    "    q_dot_A=select_q_dot_A(ufg_cond_stat_pde_nbc)([0.0, cpu.width]),\n",
    ")"
   ]
  },
  {
   "cell_type": "code",
   "execution_count": null,
   "id": "7d1fa608",
   "metadata": {},
   "outputs": [],
   "source": [
    "plot_pred_belief(\n",
    "    plt.gca(),\n",
    "    u=select_u(ufg_cond_stat_pde_nbc),\n",
    "    q_dot_V=select_q_dot_V(ufg_cond_stat_pde_nbc),\n",
    "    conditioned_on=[\"pde\", \"nbc\", \"stat\"],\n",
    "    X_pde=X_pde,\n",
    ")"
   ]
  },
  {
   "cell_type": "markdown",
   "id": "2f047e3f",
   "metadata": {},
   "source": [
    "### Measurements"
   ]
  },
  {
   "cell_type": "code",
   "execution_count": null,
   "id": "b17642bf",
   "metadata": {},
   "outputs": [],
   "source": [
    "ufg_cond_stat_pde_nbc_dts = ufg_cond_stat_pde_nbc.condition_on_observations(\n",
    "    Y=y_dts,\n",
    "    L=select_u,\n",
    "    X=X_dts,\n",
    "    b=noise_dts,\n",
    ")"
   ]
  },
  {
   "cell_type": "code",
   "execution_count": null,
   "id": "5ccaee04",
   "metadata": {},
   "outputs": [],
   "source": [
    "with plt.rc_context(config.tueplots_bundle(rel_width=0.5)):\n",
    "    with plt.rc_context({\"legend.loc\": \"lower center\"}):\n",
    "        plot_belief(\n",
    "            plt.gca(),\n",
    "            u=select_u(ufg_cond_stat_pde_nbc_dts),\n",
    "            conditioned_on=[\"pde\", \"nbc\", \"stat\", \"dts\"],\n",
    "            X_pde=X_pde,\n",
    "            q_dot_A=select_q_dot_A(ufg_cond_stat_pde_nbc_dts)([0.0, cpu.width]),\n",
    "            X_dts=X_dts,\n",
    "            y_dts=y_dts,\n",
    "            noise_dts=noise_dts,\n",
    "        )\n",
    "\n",
    "experiment_utils.savefig(\"03_full_03_cond_pde_nbc_stat_dts_u\")"
   ]
  },
  {
   "cell_type": "code",
   "execution_count": null,
   "id": "7d1fa608",
   "metadata": {},
   "outputs": [],
   "source": [
    "with plt.rc_context(config.tueplots_bundle(rel_width=0.5)):\n",
    "    with plt.rc_context({\"legend.loc\": \"lower center\"}):\n",
    "        plot_pred_belief(\n",
    "            plt.gca(),\n",
    "            q_dot_V=select_q_dot_V(ufg_cond_stat_pde_nbc_dts),\n",
    "            conditioned_on=[\"pde\", \"nbc\", \"stat\", \"dts\"],\n",
    "        )\n",
    "\n",
    "experiment_utils.savefig(\"03_full_03_cond_pde_nbc_stat_dts_f\")"
   ]
  },
  {
   "cell_type": "code",
   "execution_count": null,
   "id": "f99d47aa",
   "metadata": {},
   "outputs": [],
   "source": [
    "with plt.rc_context(config.tueplots_bundle(nrows=2, rel_width=0.5)):\n",
    "    with plt.rc_context({\"legend.loc\": \"lower center\"}):\n",
    "        fig, ax = plt.subplots(nrows=2, sharex=True)\n",
    "\n",
    "        plot_belief(\n",
    "            ax=ax[0],\n",
    "            u=select_u(ufg_cond_stat_pde_nbc_dts),\n",
    "            conditioned_on=[\"pde\", \"nbc\", \"stat\", \"dts\"],\n",
    "            X_pde=X_pde,\n",
    "            q_dot_A=select_q_dot_A(ufg_cond_stat_pde_nbc_dts)([0.0, cpu.width]),\n",
    "            X_dts=X_dts,\n",
    "            y_dts=y_dts,\n",
    "            noise_dts=noise_dts,\n",
    "        )\n",
    "\n",
    "        plot_pred_belief(\n",
    "            ax=ax[1],\n",
    "            u=select_u(ufg_cond_stat_pde_nbc_dts),\n",
    "            q_dot_V=select_q_dot_V(ufg_cond_stat_pde_nbc_dts),\n",
    "            conditioned_on=[\"pde\", \"nbc\", \"stat\", \"dts\"],\n",
    "            X_pde=X_pde,\n",
    "        )\n",
    "\n",
    "experiment_utils.savefig(\"03_full_03_cond_pde_nbc_stat_dts\")"
   ]
  },
  {
   "cell_type": "code",
   "execution_count": null,
   "id": "b9c50e03",
   "metadata": {},
   "outputs": [],
   "source": []
  }
 ],
 "metadata": {
  "kernelspec": {
   "display_name": "Python 3.10.4",
   "language": "python",
   "name": "python3"
  },
  "language_info": {
   "codemirror_mode": {
    "name": "ipython",
    "version": 3
   },
   "file_extension": ".py",
   "mimetype": "text/x-python",
   "name": "python",
   "nbconvert_exporter": "python",
   "pygments_lexer": "ipython3",
   "version": "3.10.4"
  },
  "vscode": {
   "interpreter": {
    "hash": "0457b12441837086dec1b475e0008c28e5fc37f4ffe0e5ee9f2b481cc28bc3c9"
   }
  }
 },
 "nbformat": 4,
 "nbformat_minor": 5
}
